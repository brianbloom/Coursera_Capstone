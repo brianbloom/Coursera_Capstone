{
 "cells": [
  {
   "cell_type": "markdown",
   "metadata": {},
   "source": [
    "## Brian's Capstone Project notebook"
   ]
  },
  {
   "cell_type": "markdown",
   "metadata": {},
   "source": [
    "This is Brian's workspace for completing the capstone project for the Coursera \"IBM Data Science\" program."
   ]
  },
  {
   "cell_type": "code",
   "execution_count": 10,
   "metadata": {},
   "outputs": [
    {
     "name": "stdout",
     "output_type": "stream",
     "text": [
      "Collecting geopy\n",
      "  Downloading geopy-2.0.0-py3-none-any.whl (111 kB)\n",
      "Collecting geographiclib<2,>=1.49\n",
      "  Downloading geographiclib-1.50-py3-none-any.whl (38 kB)\n",
      "Installing collected packages: geographiclib, geopy\n",
      "Successfully installed geographiclib-1.50 geopy-2.0.0\n",
      "Collecting folium==0.5.0\n",
      "  Downloading folium-0.5.0.tar.gz (79 kB)\n",
      "Requirement already satisfied: jinja2 in c:\\dev\\anaconda3\\lib\\site-packages (from folium==0.5.0) (2.11.2)\n",
      "Requirement already satisfied: requests in c:\\dev\\anaconda3\\lib\\site-packages (from folium==0.5.0) (2.25.0)\n",
      "Requirement already satisfied: six in c:\\dev\\anaconda3\\lib\\site-packages (from folium==0.5.0) (1.15.0)\n",
      "Collecting branca\n",
      "  Downloading branca-0.4.1-py3-none-any.whl (24 kB)\n",
      "Requirement already satisfied: MarkupSafe>=0.23 in c:\\dev\\anaconda3\\lib\\site-packages (from jinja2->folium==0.5.0) (1.1.1)\n",
      "Requirement already satisfied: chardet<4,>=3.0.2 in c:\\dev\\anaconda3\\lib\\site-packages (from requests->folium==0.5.0) (3.0.4)\n",
      "Requirement already satisfied: urllib3<1.27,>=1.21.1 in c:\\dev\\anaconda3\\lib\\site-packages (from requests->folium==0.5.0) (1.25.11)\n",
      "Requirement already satisfied: idna<3,>=2.5 in c:\\dev\\anaconda3\\lib\\site-packages (from requests->folium==0.5.0) (2.10)\n",
      "Requirement already satisfied: certifi>=2017.4.17 in c:\\dev\\anaconda3\\lib\\site-packages (from requests->folium==0.5.0) (2020.12.5)\n",
      "Building wheels for collected packages: folium\n",
      "  Building wheel for folium (setup.py): started\n",
      "  Building wheel for folium (setup.py): finished with status 'done'\n",
      "  Created wheel for folium: filename=folium-0.5.0-py3-none-any.whl size=76252 sha256=f6f2a1709be53e5ebeec0914f7b60365fac11a94a638445daf8bbd7522b872d5\n",
      "  Stored in directory: c:\\users\\brian\\appdata\\local\\pip\\cache\\wheels\\ef\\4c\\4a\\17fd3d7fb7b6243d5a7a8d165870cd5c6ad2ec4c0582f039e4\n",
      "Successfully built folium\n",
      "Installing collected packages: branca, folium\n",
      "Successfully installed branca-0.4.1 folium-0.5.0\n",
      "Folium installed\n",
      "Libraries imported.\n",
      "Hello Capstone Project Course!\n"
     ]
    }
   ],
   "source": [
    "import requests # library to handle requests\n",
    "import pandas as pd # library for data analsysis\n",
    "import numpy as np # library to handle data in a vectorized manner\n",
    "import random # library for random number generation\n",
    "\n",
    "!pip install geopy\n",
    "from geopy.geocoders import Nominatim # module to convert an address into latitude and longitude values\n",
    "\n",
    "# libraries for displaying images\n",
    "from IPython.display import Image \n",
    "from IPython.core.display import HTML \n",
    "    \n",
    "# tranforming json file into a pandas dataframe library\n",
    "from pandas.io.json import json_normalize\n",
    "\n",
    "! pip install folium==0.5.0\n",
    "import folium # plotting library\n",
    "\n",
    "print('Folium installed')\n",
    "print('Libraries imported.')\n",
    "\n",
    "fs_expl_url = 'https://api.foursquare.com/v2/venues/explore'\n",
    "fs_srch_url = 'https://api.foursquare.com/v2/venues/explore'\n",
    "\n",
    "print('Hello Capstone Project Course!')"
   ]
  },
  {
   "cell_type": "code",
   "execution_count": 3,
   "metadata": {},
   "outputs": [
    {
     "data": {
      "text/plain": [
       "{'CodeCell': {'cm_config': {'autoCloseBrackets': False}}}"
      ]
     },
     "execution_count": 3,
     "metadata": {},
     "output_type": "execute_result"
    }
   ],
   "source": [
    "# this disables the autocomplete for brackets in the editor.  It annoys me.\n",
    "from notebook.services.config import ConfigManager\n",
    "c = ConfigManager()\n",
    "c.update('notebook', {\"CodeCell\": {\"cm_config\": {\"autoCloseBrackets\": False}}})"
   ]
  },
  {
   "cell_type": "code",
   "execution_count": 15,
   "metadata": {},
   "outputs": [],
   "source": [
    "# @hidden_cell\n",
    "myfsid='AR2GDRKHV2PFFOQZUPHKYI11OWFLJONZNTBD2KUIIXQEO23N'\n",
    "myfssecret='SAYV4MJV4TU3PXJF2DO4JDMQD3DOLJ42FMXCJUYYPKZNXENB'\n",
    "myfstoken='GKU3M1PGEPCPCIO0KCOPDHZZEFW3THK5STICE5X2XNFLNQ3K'\n",
    "fsversion = '20180323'\n"
   ]
  },
  {
   "cell_type": "code",
   "execution_count": 14,
   "metadata": {},
   "outputs": [],
   "source": [
    "params = dict(\n",
    "client_id=myfsid,\n",
    "client_secret=myfssecret,\n",
    "v='20180323',\n",
    "ll='30.5237496222845, -97.61143217241452',\n",
    "query='coffee',\n",
    "limit=1\n",
    ")\n",
    "resp = requests.get(url=fs_expl_url, params=params)\n",
    "data = json.loads(resp.text)"
   ]
  },
  {
   "cell_type": "code",
   "execution_count": 9,
   "metadata": {},
   "outputs": [
    {
     "data": {
      "text/plain": [
       "b'{\"meta\":{\"code\":200,\"requestId\":\"5fda59fbe3f54d3244573c43\"},\"response\":{\"suggestedFilters\":{\"header\":\"Tap to show:\",\"filters\":[{\"name\":\"Open now\",\"key\":\"openNow\"},{\"name\":\"$-$$$$\",\"key\":\"price\"}]},\"warning\":{\"text\":\"There aren\\'t a lot of results for \\\\\"coffee.\\\\\" Try something more general, reset your filters, or expand the search area.\"},\"suggestedRadius\":6727,\"headerLocation\":\"Round Rock\",\"headerFullLocation\":\"Round Rock\",\"headerLocationGranularity\":\"city\",\"query\":\"coffee\",\"totalResults\":32,\"suggestedBounds\":{\"ne\":{\"lat\":30.533394466118494,\"lng\":-97.61392973935521},\"sw\":{\"lat\":30.530694806333052,\"lng\":-97.61818684093815}},\"groups\":[{\"type\":\"Recommended Places\",\"name\":\"recommended\",\"items\":[{\"reasons\":{\"count\":0,\"items\":[{\"summary\":\"This spot is popular\",\"type\":\"general\",\"reasonName\":\"globalInteractionReason\"}]},\"venue\":{\"id\":\"4b225a0cf964a520c64524e3\",\"name\":\"Starbucks\",\"contact\":{},\"location\":{\"address\":\"4450 E Palm Valley Blvd\",\"lat\":30.532044636225773,\"lng\":-97.61605829014668,\"labeledLatLngs\":[{\"label\":\"display\",\"lat\":30.532044636225773,\"lng\":-97.61605829014668},{\"label\":\"entrance\",\"lat\":30.532048,\"lng\":-97.615983}],\"distance\":1024,\"postalCode\":\"78665\",\"cc\":\"US\",\"city\":\"Round Rock\",\"state\":\"TX\",\"country\":\"United States\",\"formattedAddress\":[\"4450 E Palm Valley Blvd\",\"Round Rock, TX 78665\",\"United States\"]},\"categories\":[{\"id\":\"4bf58dd8d48988d1e0931735\",\"name\":\"Coffee Shop\",\"pluralName\":\"Coffee Shops\",\"shortName\":\"Coffee Shop\",\"icon\":{\"prefix\":\"https:\\\\/\\\\/ss3.4sqi.net\\\\/img\\\\/categories_v2\\\\/food\\\\/coffeeshop_\",\"suffix\":\".png\"},\"primary\":true}],\"verified\":true,\"stats\":{\"tipCount\":0,\"usersCount\":0,\"checkinsCount\":0,\"visitsCount\":0},\"delivery\":{\"id\":\"2282065\",\"url\":\"https:\\\\/\\\\/www.grubhub.com\\\\/restaurant\\\\/starbucks-4450-east-palm-valley-boulevard-round-rock\\\\/2282065?affiliate=1131&utm_source=foursquare-affiliate-network&utm_medium=affiliate&utm_campaign=1131&utm_content=2282065\",\"provider\":{\"name\":\"grubhub\",\"icon\":{\"prefix\":\"https:\\\\/\\\\/fastly.4sqi.net\\\\/img\\\\/general\\\\/cap\\\\/\",\"sizes\":[40,50],\"name\":\"\\\\/delivery_provider_grubhub_20180129.png\"}}},\"beenHere\":{\"count\":0,\"lastCheckinExpiredAt\":0,\"marked\":false,\"unconfirmedCount\":0},\"photos\":{\"count\":0,\"groups\":[]},\"hereNow\":{\"count\":0,\"summary\":\"Nobody here\",\"groups\":[]}},\"referralId\":\"e-0-4b225a0cf964a520c64524e3-0\"}]}]}}'"
      ]
     },
     "execution_count": 9,
     "metadata": {},
     "output_type": "execute_result"
    }
   ],
   "source": [
    "resp.content"
   ]
  },
  {
   "cell_type": "code",
   "execution_count": 11,
   "metadata": {},
   "outputs": [
    {
     "name": "stdout",
     "output_type": "stream",
     "text": [
      "40.7149555 -74.0153365\n"
     ]
    }
   ],
   "source": [
    "address = '102 North End Ave, New York, NY'\n",
    "\n",
    "geolocator = Nominatim(user_agent=\"foursquare_agent\")\n",
    "location = geolocator.geocode(address)\n",
    "latitude = location.latitude\n",
    "longitude = location.longitude\n",
    "print(latitude, longitude)"
   ]
  },
  {
   "cell_type": "code",
   "execution_count": 16,
   "metadata": {},
   "outputs": [
    {
     "data": {
      "text/plain": [
       "'https://api.foursquare.com/v2/venues/search?client_id=AR2GDRKHV2PFFOQZUPHKYI11OWFLJONZNTBD2KUIIXQEO23N&client_secret=SAYV4MJV4TU3PXJF2DO4JDMQD3DOLJ42FMXCJUYYPKZNXENB&ll=40.7149555,-74.0153365&oauth_token=GKU3M1PGEPCPCIO0KCOPDHZZEFW3THK5STICE5X2XNFLNQ3K&v=20180323&query=Italian&radius=500&limit=1'"
      ]
     },
     "execution_count": 16,
     "metadata": {},
     "output_type": "execute_result"
    }
   ],
   "source": [
    "LIMIT = 1\n",
    "search_query = 'Italian'\n",
    "radius = 500\n",
    "url = 'https://api.foursquare.com/v2/venues/search?client_id={}&client_secret={}&ll={},{}&oauth_token={}&v={}&query={}&radius={}&limit={}'.format(myfsid, myfssecret, latitude, longitude,myfstoken, fsversion, search_query, radius, LIMIT)\n",
    "url"
   ]
  },
  {
   "cell_type": "code",
   "execution_count": 17,
   "metadata": {},
   "outputs": [
    {
     "data": {
      "text/plain": [
       "{'meta': {'code': 200, 'requestId': '5fda6661b8aa6d5abdf34221'},\n",
       " 'notifications': [{'type': 'notificationTray', 'item': {'unreadCount': 0}}],\n",
       " 'response': {'venues': [{'id': '4fa862b3e4b0ebff2f749f06',\n",
       "    'name': \"Harry's Italian Pizza Bar\",\n",
       "    'contact': {},\n",
       "    'location': {'address': '225 Murray St',\n",
       "     'lat': 40.71521779064671,\n",
       "     'lng': -74.01473940209351,\n",
       "     'labeledLatLngs': [{'label': 'display',\n",
       "       'lat': 40.71521779064671,\n",
       "       'lng': -74.01473940209351},\n",
       "      {'label': 'entrance', 'lat': 40.715361, 'lng': -74.014975}],\n",
       "     'distance': 58,\n",
       "     'postalCode': '10282',\n",
       "     'cc': 'US',\n",
       "     'city': 'New York',\n",
       "     'state': 'NY',\n",
       "     'country': 'United States',\n",
       "     'formattedAddress': ['225 Murray St', 'New York, NY 10282']},\n",
       "    'categories': [{'id': '4bf58dd8d48988d1ca941735',\n",
       "      'name': 'Pizza Place',\n",
       "      'pluralName': 'Pizza Places',\n",
       "      'shortName': 'Pizza',\n",
       "      'icon': {'prefix': 'https://ss3.4sqi.net/img/categories_v2/food/pizza_',\n",
       "       'suffix': '.png'},\n",
       "      'primary': True}],\n",
       "    'verified': False,\n",
       "    'stats': {'tipCount': 0,\n",
       "     'usersCount': 0,\n",
       "     'checkinsCount': 0,\n",
       "     'visitsCount': 0},\n",
       "    'beenHere': {'count': 0,\n",
       "     'lastCheckinExpiredAt': 0,\n",
       "     'marked': False,\n",
       "     'unconfirmedCount': 0},\n",
       "    'hereNow': {'count': 0, 'summary': 'Nobody here', 'groups': []},\n",
       "    'referralId': 'v-1608148577',\n",
       "    'venueChains': [],\n",
       "    'hasPerk': False}]}}"
      ]
     },
     "execution_count": 17,
     "metadata": {},
     "output_type": "execute_result"
    }
   ],
   "source": [
    "results = requests.get(url).json()\n",
    "results"
   ]
  },
  {
   "cell_type": "code",
   "execution_count": 18,
   "metadata": {},
   "outputs": [
    {
     "data": {
      "text/plain": [
       "[{'id': '4fa862b3e4b0ebff2f749f06',\n",
       "  'name': \"Harry's Italian Pizza Bar\",\n",
       "  'contact': {},\n",
       "  'location': {'address': '225 Murray St',\n",
       "   'lat': 40.71521779064671,\n",
       "   'lng': -74.01473940209351,\n",
       "   'labeledLatLngs': [{'label': 'display',\n",
       "     'lat': 40.71521779064671,\n",
       "     'lng': -74.01473940209351},\n",
       "    {'label': 'entrance', 'lat': 40.715361, 'lng': -74.014975}],\n",
       "   'distance': 58,\n",
       "   'postalCode': '10282',\n",
       "   'cc': 'US',\n",
       "   'city': 'New York',\n",
       "   'state': 'NY',\n",
       "   'country': 'United States',\n",
       "   'formattedAddress': ['225 Murray St', 'New York, NY 10282']},\n",
       "  'categories': [{'id': '4bf58dd8d48988d1ca941735',\n",
       "    'name': 'Pizza Place',\n",
       "    'pluralName': 'Pizza Places',\n",
       "    'shortName': 'Pizza',\n",
       "    'icon': {'prefix': 'https://ss3.4sqi.net/img/categories_v2/food/pizza_',\n",
       "     'suffix': '.png'},\n",
       "    'primary': True}],\n",
       "  'verified': False,\n",
       "  'stats': {'tipCount': 0,\n",
       "   'usersCount': 0,\n",
       "   'checkinsCount': 0,\n",
       "   'visitsCount': 0},\n",
       "  'beenHere': {'count': 0,\n",
       "   'lastCheckinExpiredAt': 0,\n",
       "   'marked': False,\n",
       "   'unconfirmedCount': 0},\n",
       "  'hereNow': {'count': 0, 'summary': 'Nobody here', 'groups': []},\n",
       "  'referralId': 'v-1608148577',\n",
       "  'venueChains': [],\n",
       "  'hasPerk': False}]"
      ]
     },
     "execution_count": 18,
     "metadata": {},
     "output_type": "execute_result"
    }
   ],
   "source": [
    "venues = results['response']['venues']\n",
    "venues"
   ]
  },
  {
   "cell_type": "code",
   "execution_count": null,
   "metadata": {},
   "outputs": [],
   "source": [
    "\n",
    "# tranform venues into a dataframe\n",
    "dataframe = json_normalize(venues)\n",
    "dataframe.head()"
   ]
  }
 ],
 "metadata": {
  "kernelspec": {
   "display_name": "Python 3",
   "language": "python",
   "name": "python3"
  },
  "language_info": {
   "codemirror_mode": {
    "name": "ipython",
    "version": 3
   },
   "file_extension": ".py",
   "mimetype": "text/x-python",
   "name": "python",
   "nbconvert_exporter": "python",
   "pygments_lexer": "ipython3",
   "version": "3.8.5"
  }
 },
 "nbformat": 4,
 "nbformat_minor": 4
}
